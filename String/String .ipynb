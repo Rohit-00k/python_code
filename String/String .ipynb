{
 "cells": [
  {
   "cell_type": "markdown",
   "id": "c5e322ce",
   "metadata": {},
   "source": [
    "#  write a program to calclulate the length of a string."
   ]
  },
  {
   "cell_type": "code",
   "execution_count": 1,
   "id": "08d0682a",
   "metadata": {},
   "outputs": [
    {
     "name": "stdout",
     "output_type": "stream",
     "text": [
      "enter string:rohit adainge\n",
      "length of string = 13\n"
     ]
    }
   ],
   "source": [
    "string = input('enter string:')\n",
    "print('length of string =', len(string))"
   ]
  },
  {
   "cell_type": "markdown",
   "id": "dd8155a8",
   "metadata": {},
   "source": [
    "# write a program to count the no of characters in a string."
   ]
  },
  {
   "cell_type": "code",
   "execution_count": 2,
   "id": "54c4ee03",
   "metadata": {},
   "outputs": [
    {
     "name": "stdout",
     "output_type": "stream",
     "text": [
      "enter string:abcdefghijklmnopqrstuvwxyz\n",
      "no.of characters in string = 26\n"
     ]
    }
   ],
   "source": [
    "string = input('enter string:')\n",
    "i = 0\n",
    "count = 0\n",
    "while i<len(string):\n",
    "    if string[i].isalpha()==True:\n",
    "        count += 1\n",
    "    i += 1\n",
    "print('no.of characters in string =', count)"
   ]
  },
  {
   "cell_type": "markdown",
   "id": "58299241",
   "metadata": {},
   "source": [
    "#  write a program that takes input from the user and displyas that input back in upper and lower cases. "
   ]
  },
  {
   "cell_type": "code",
   "execution_count": 3,
   "id": "80c87dea",
   "metadata": {},
   "outputs": [
    {
     "name": "stdout",
     "output_type": "stream",
     "text": [
      "Enter your string = Rohit Adalinge\n",
      "String in UPPER Case :  ROHIT ADALINGE\n",
      "String in lower Case :  rohit adalinge\n"
     ]
    }
   ],
   "source": [
    "str1 = input('Enter your string = ')\n",
    "print('String in UPPER Case : ',str1.upper())\n",
    "print('String in lower Case : ',str1.lower())\n"
   ]
  },
  {
   "cell_type": "markdown",
   "id": "9d1fbc5f",
   "metadata": {},
   "source": [
    "# write a program to check whether a given string is palindrome or not."
   ]
  },
  {
   "cell_type": "code",
   "execution_count": 4,
   "id": "0e365b39",
   "metadata": {},
   "outputs": [
    {
     "name": "stdout",
     "output_type": "stream",
     "text": [
      "enter string:rohit\n",
      "String is not a palindrome\n"
     ]
    }
   ],
   "source": [
    "str1 = input('enter string:')\n",
    "str2 = str1[::-1]\n",
    "if str2==str1:\n",
    "    print('String is palindrome')\n",
    "else :\n",
    "    print('String is not a palindrome')"
   ]
  },
  {
   "cell_type": "markdown",
   "id": "ade38f05",
   "metadata": {},
   "source": [
    "#  write a program that accepts a comma separated sequence of word as input and prints the unique words in sorted from."
   ]
  },
  {
   "cell_type": "code",
   "execution_count": 5,
   "id": "be88cace",
   "metadata": {},
   "outputs": [
    {
     "name": "stdout",
     "output_type": "stream",
     "text": [
      "rohit\n",
      "['rohit']\n"
     ]
    }
   ],
   "source": [
    "sen=input().split(\",\")\n",
    "\n",
    "a=list(set(sen))\n",
    "\n",
    "a.sort()\n",
    "\n",
    "print(str(a))"
   ]
  },
  {
   "cell_type": "code",
   "execution_count": null,
   "id": "794867f1",
   "metadata": {},
   "outputs": [],
   "source": []
  }
 ],
 "metadata": {
  "kernelspec": {
   "display_name": "Python 3 (ipykernel)",
   "language": "python",
   "name": "python3"
  },
  "language_info": {
   "codemirror_mode": {
    "name": "ipython",
    "version": 3
   },
   "file_extension": ".py",
   "mimetype": "text/x-python",
   "name": "python",
   "nbconvert_exporter": "python",
   "pygments_lexer": "ipython3",
   "version": "3.9.12"
  }
 },
 "nbformat": 4,
 "nbformat_minor": 5
}
