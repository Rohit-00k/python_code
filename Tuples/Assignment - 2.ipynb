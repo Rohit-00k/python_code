{
 "cells": [
  {
   "cell_type": "markdown",
   "id": "839fe055",
   "metadata": {},
   "source": [
    "#  write a program to finde the repeated itme of a tuple."
   ]
  },
  {
   "cell_type": "code",
   "execution_count": 2,
   "id": "7b63568b",
   "metadata": {},
   "outputs": [
    {
     "name": "stdout",
     "output_type": "stream",
     "text": [
      "enter tuple items:1 2 3 4 5 6 7 8 4 5 6 7\n",
      "('1', '2', '3', '4', '5', '6', '7', '8', '4', '5', '6', '7')\n",
      "Repeated element are:\n",
      "('6', '7', '5', '4')\n"
     ]
    }
   ],
   "source": [
    "a= tuple(input(\"enter tuple items:\").split())\n",
    "print(a)\n",
    "def tup(n):\n",
    "    m=[]\n",
    "    print(\"Repeated element are:\")\n",
    "    for i in  n:\n",
    "        if n.count(i)>1:\n",
    "            m.append(i)\n",
    "    b=set(m)\n",
    "    print(tuple(b))\n",
    "tup(a)"
   ]
  },
  {
   "cell_type": "markdown",
   "id": "7e89203b",
   "metadata": {},
   "source": [
    "#  write a program to check whether an element exists with in tuple ."
   ]
  },
  {
   "cell_type": "code",
   "execution_count": 3,
   "id": "29093918",
   "metadata": {},
   "outputs": [
    {
     "name": "stdout",
     "output_type": "stream",
     "text": [
      "enter item of tuple :1 2 3 4 5 6 7 8\n",
      "('1', '2', '3', '4', '5', '6', '7', '8')\n",
      "Enter element you want to check:8\n",
      "8 Exist in tuple\n"
     ]
    }
   ],
   "source": [
    "n= tuple (input(\"enter item of tuple :\").split())\n",
    "print(n)\n",
    "m=input('Enter element you want to check:')\n",
    "def exist(x,y):\n",
    "    if y in x:\n",
    "        print(y,\"Exist in tuple\")\n",
    "    else:\n",
    "        print(y,\"Does not exist\")\n",
    "exist(n,m)\n",
    "                            "
   ]
  },
  {
   "cell_type": "markdown",
   "id": "04b50b4f",
   "metadata": {},
   "source": [
    "#  write a program to convert a list to a tuple."
   ]
  },
  {
   "cell_type": "code",
   "execution_count": 4,
   "id": "4c258139",
   "metadata": {},
   "outputs": [
    {
     "name": "stdout",
     "output_type": "stream",
     "text": [
      "Enter list elements: 1 2 3 4 5 6 7 8\n",
      "['1', '2', '3', '4', '5', '6', '7', '8']\n",
      "<class 'list'>\n",
      "('1', '2', '3', '4', '5', '6', '7', '8')\n",
      "<class 'tuple'>\n"
     ]
    }
   ],
   "source": [
    "n= list(input(\"Enter list elements: \").split())\n",
    "def convert(x):\n",
    "    print(x)\n",
    "    print(type(x))\n",
    "    m=tuple(x)\n",
    "    print(m)\n",
    "    print(type(m))\n",
    "convert(n)"
   ]
  },
  {
   "cell_type": "markdown",
   "id": "d9f8dfc2",
   "metadata": {},
   "source": [
    "# write a program to remove an item from a tuple."
   ]
  },
  {
   "cell_type": "code",
   "execution_count": 5,
   "id": "c1078692",
   "metadata": {},
   "outputs": [
    {
     "name": "stdout",
     "output_type": "stream",
     "text": [
      "Enter item in tuple:1 2 3 4 5 6 7 8 99\n",
      "('1', '2', '3', '4', '5', '6', '7', '8', '99')\n",
      "Enter element you want to remove: 99\n",
      "('1', '2', '3', '4', '5', '6', '7', '8')\n"
     ]
    }
   ],
   "source": [
    "n= tuple(input(\"Enter item in tuple:\").split())\n",
    "print(n)\n",
    "m=input(\"Enter element you want to remove: \")\n",
    "def rem(x,o):\n",
    "    y=list(x)\n",
    "    y.remove(o)\n",
    "    x=tuple(y)\n",
    "    print(x)\n",
    "rem(n,m)"
   ]
  },
  {
   "cell_type": "markdown",
   "id": "efa8c323",
   "metadata": {},
   "source": [
    "# write a program to slice a tuple."
   ]
  },
  {
   "cell_type": "code",
   "execution_count": 6,
   "id": "d43db7ad",
   "metadata": {},
   "outputs": [
    {
     "name": "stdout",
     "output_type": "stream",
     "text": [
      "Enter item in tuple;1 2 3 4 5 6 7 8\n",
      "('1', '2', '3', '4', '5', '6', '7', '8')\n",
      "('3', '4', '5')\n"
     ]
    }
   ],
   "source": [
    "n=tuple(input(\"Enter item in tuple;\").split())\n",
    "print(n)\n",
    "print(n[2:5])"
   ]
  },
  {
   "cell_type": "markdown",
   "id": "746f556e",
   "metadata": {},
   "source": [
    "# write a program to find the index of an item of a tuple."
   ]
  },
  {
   "cell_type": "code",
   "execution_count": 7,
   "id": "a251d5f8",
   "metadata": {},
   "outputs": [
    {
     "name": "stdout",
     "output_type": "stream",
     "text": [
      "Enter item in tuple :Hi this is python programming language\n",
      "\n",
      "Enter element you want to index of:python\n",
      "index of  python is: 3\n"
     ]
    }
   ],
   "source": [
    "n=tuple(input(\"Enter item in tuple :\").split())\n",
    "print()\n",
    "m=input(\"Enter element you want to index of:\")\n",
    "def find(x,y):\n",
    "    if y in x:\n",
    "        a=x.index(y)\n",
    "        print(\"index of \",y, \"is:\",a)\n",
    "    else:\n",
    "        print('No such element is present')\n",
    "find(n,m)"
   ]
  },
  {
   "cell_type": "markdown",
   "id": "5cf38027",
   "metadata": {},
   "source": [
    "# write  a program to find the length of a tuple."
   ]
  },
  {
   "cell_type": "code",
   "execution_count": 8,
   "id": "5b869531",
   "metadata": {},
   "outputs": [
    {
     "name": "stdout",
     "output_type": "stream",
     "text": [
      "enter item in tuole:1 2 3 4 5 67 8 \n",
      "('1', '2', '3', '4', '5', '67', '8')\n",
      "Length of entered tuple is: 7\n"
     ]
    }
   ],
   "source": [
    "n=tuple(input(\"enter item in tuole:\").split())\n",
    "print(n)\n",
    "print(\"Length of entered tuple is:\",len(n))"
   ]
  },
  {
   "cell_type": "markdown",
   "id": "b77a77f5",
   "metadata": {},
   "source": [
    "#  write a program to convert a tuple to a dictionary."
   ]
  },
  {
   "cell_type": "code",
   "execution_count": 9,
   "id": "7bf6a36c",
   "metadata": {},
   "outputs": [
    {
     "name": "stdout",
     "output_type": "stream",
     "text": [
      "((1, 'ram'), (2, 'sita'), (3, 'karan'))\n",
      "{1: 'ram', 2: 'sita', 3: 'karan'}\n",
      "<class 'dict'>\n"
     ]
    }
   ],
   "source": [
    "n=((1,'ram'),(2,'sita'),(3,'karan'))\n",
    "print(n)\n",
    "d=dict()\n",
    "\n",
    "for key,value in n:\n",
    "    d[key]=value\n",
    "print(d)\n",
    "print(type(d))"
   ]
  },
  {
   "cell_type": "code",
   "execution_count": null,
   "id": "047c981c",
   "metadata": {},
   "outputs": [],
   "source": []
  }
 ],
 "metadata": {
  "kernelspec": {
   "display_name": "Python 3 (ipykernel)",
   "language": "python",
   "name": "python3"
  },
  "language_info": {
   "codemirror_mode": {
    "name": "ipython",
    "version": 3
   },
   "file_extension": ".py",
   "mimetype": "text/x-python",
   "name": "python",
   "nbconvert_exporter": "python",
   "pygments_lexer": "ipython3",
   "version": "3.9.12"
  }
 },
 "nbformat": 4,
 "nbformat_minor": 5
}
