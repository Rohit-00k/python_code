{
 "cells": [
  {
   "cell_type": "markdown",
   "id": "e082997b",
   "metadata": {},
   "source": [
    "# write a program  to create a tuple."
   ]
  },
  {
   "cell_type": "code",
   "execution_count": 1,
   "id": "1e60e400",
   "metadata": {},
   "outputs": [
    {
     "name": "stdout",
     "output_type": "stream",
     "text": [
      "enter tuple element67757\n",
      "('6', '7', '7', '5', '7')\n",
      "<class 'tuple'>\n"
     ]
    }
   ],
   "source": [
    "a= tuple(input(\"enter tuple element\"))\n",
    "print(a)\n",
    "print(type(a))"
   ]
  },
  {
   "cell_type": "markdown",
   "id": "58fc7e0e",
   "metadata": {},
   "source": [
    "# program to create tuple with different data types ."
   ]
  },
  {
   "cell_type": "code",
   "execution_count": 2,
   "id": "a9120138",
   "metadata": {},
   "outputs": [
    {
     "name": "stdout",
     "output_type": "stream",
     "text": [
      "('rohit', 8, 5, 7, True, 'kedar', 6)\n",
      "<class 'tuple'>\n"
     ]
    }
   ],
   "source": [
    "t=(\"rohit\",8,5,7,True,'kedar',6)\n",
    "print(t)\n",
    "print(type(t))"
   ]
  },
  {
   "cell_type": "markdown",
   "id": "f471f902",
   "metadata": {},
   "source": [
    "# program to create tuple with number and print one item."
   ]
  },
  {
   "cell_type": "code",
   "execution_count": 3,
   "id": "d2d689ed",
   "metadata": {},
   "outputs": [
    {
     "name": "stdout",
     "output_type": "stream",
     "text": [
      "enter interger for tuple elenents:8787657\n",
      "('8', '7', '8', '7', '6', '5', '7')\n",
      "any one integer item in tuple: 8\n"
     ]
    }
   ],
   "source": [
    "a=tuple (input(\"enter interger for tuple elenents:\"))\n",
    "print(a)\n",
    "print(\"any one integer item in tuple:\",int(a[2]))"
   ]
  },
  {
   "cell_type": "markdown",
   "id": "e3a8cc3f",
   "metadata": {},
   "source": [
    "#  program to add an item in tuple."
   ]
  },
  {
   "cell_type": "code",
   "execution_count": 4,
   "id": "3a9d0388",
   "metadata": {},
   "outputs": [
    {
     "name": "stdout",
     "output_type": "stream",
     "text": [
      "(2, 4, 6, 8, 10, 12)\n"
     ]
    }
   ],
   "source": [
    "t=(2,4,6,8,10)\n",
    "t1=t+(12,)\n",
    "print(t1)"
   ]
  },
  {
   "cell_type": "code",
   "execution_count": 5,
   "id": "aad6d2ed",
   "metadata": {},
   "outputs": [
    {
     "name": "stdout",
     "output_type": "stream",
     "text": [
      "[1, 2, 3, 4, 5]\n",
      "(1, 2, 3, 4, 5, 6)\n"
     ]
    }
   ],
   "source": [
    "t=(1,2,3,4,5)\n",
    "l1=list(t)\n",
    "print(l1)\n",
    "l1.append(6)\n",
    "t1=tuple(l1)\n",
    "print(t1)"
   ]
  },
  {
   "cell_type": "markdown",
   "id": "2e0e3116",
   "metadata": {},
   "source": [
    "# write a program to convert a tupple to a string."
   ]
  },
  {
   "cell_type": "code",
   "execution_count": 6,
   "id": "8aa18c8e",
   "metadata": {},
   "outputs": [
    {
     "name": "stdout",
     "output_type": "stream",
     "text": [
      "enter tuple element:67757bjgj557\n",
      "('6', '7', '7', '5', '7', 'b', 'j', 'g', 'j', '5', '5', '7')\n",
      "<class 'tuple'>\n",
      "('6', '7', '7', '5', '7', 'b', 'j', 'g', 'j', '5', '5', '7')\n",
      "<class 'str'>\n"
     ]
    }
   ],
   "source": [
    "t= tuple(input (\"enter tuple element:\"))\n",
    "print(t)\n",
    "print(type(t))\n",
    "s= str(t)\n",
    "print(s)\n",
    "print(type(s))"
   ]
  },
  {
   "cell_type": "markdown",
   "id": "ee0a0aa6",
   "metadata": {},
   "source": [
    "#  write a program to get the 4th element and 4th element from last of a tuple."
   ]
  },
  {
   "cell_type": "code",
   "execution_count": 7,
   "id": "2a6a1d95",
   "metadata": {},
   "outputs": [
    {
     "name": "stdout",
     "output_type": "stream",
     "text": [
      "enter tuple elemnt :86885\n",
      "('8', '6', '8', '8', '5')\n",
      "4th element from first : 8\n",
      "4th element from second : 6\n"
     ]
    }
   ],
   "source": [
    "t = tuple (input (\"enter tuple elemnt :\"))\n",
    "print(t)\n",
    "print(\"4th element from first :\",t[3])\n",
    "print(\"4th element from second :\",t[-4])"
   ]
  },
  {
   "cell_type": "code",
   "execution_count": null,
   "id": "0bc6f26f",
   "metadata": {},
   "outputs": [],
   "source": []
  }
 ],
 "metadata": {
  "kernelspec": {
   "display_name": "Python 3 (ipykernel)",
   "language": "python",
   "name": "python3"
  },
  "language_info": {
   "codemirror_mode": {
    "name": "ipython",
    "version": 3
   },
   "file_extension": ".py",
   "mimetype": "text/x-python",
   "name": "python",
   "nbconvert_exporter": "python",
   "pygments_lexer": "ipython3",
   "version": "3.9.12"
  }
 },
 "nbformat": 4,
 "nbformat_minor": 5
}
