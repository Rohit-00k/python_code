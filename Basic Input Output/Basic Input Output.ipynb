{
 "cells": [
  {
   "cell_type": "markdown",
   "id": "fb2cbbcc",
   "metadata": {},
   "source": [
    "#  Self Introduction."
   ]
  },
  {
   "cell_type": "code",
   "execution_count": 1,
   "id": "d32afd65",
   "metadata": {},
   "outputs": [
    {
     "name": "stdout",
     "output_type": "stream",
     "text": [
      "Hi Rohit welcome to python\n"
     ]
    }
   ],
   "source": [
    "print(\"Hi Rohit welcome to python\")"
   ]
  },
  {
   "cell_type": "markdown",
   "id": "78026c2d",
   "metadata": {},
   "source": [
    "#  Addition."
   ]
  },
  {
   "cell_type": "code",
   "execution_count": 2,
   "id": "aebae3e9",
   "metadata": {},
   "outputs": [
    {
     "name": "stdout",
     "output_type": "stream",
     "text": [
      "enter n1:8\n",
      "enter n2:2\n",
      "sum = 10\n"
     ]
    }
   ],
   "source": [
    "n1 = int(input('enter n1:'))\n",
    "n2 = int(input('enter n2:'))\n",
    "sum = n1+n2\n",
    "print('sum =', sum)"
   ]
  },
  {
   "cell_type": "markdown",
   "id": "a8ddf1bd",
   "metadata": {},
   "source": [
    "#  Subtraction."
   ]
  },
  {
   "cell_type": "code",
   "execution_count": 3,
   "id": "64d13341",
   "metadata": {},
   "outputs": [
    {
     "name": "stdout",
     "output_type": "stream",
     "text": [
      "enter n1:10\n",
      "enter n2:5\n",
      "sub = 5\n"
     ]
    }
   ],
   "source": [
    "n1 = int(input('enter n1:'))\n",
    "n2 = int(input('enter n2:'))\n",
    "sub = n1-n2\n",
    "print('sub =', sub)"
   ]
  },
  {
   "cell_type": "markdown",
   "id": "a07445e2",
   "metadata": {},
   "source": [
    "#  Multiplication."
   ]
  },
  {
   "cell_type": "code",
   "execution_count": 4,
   "id": "fc5f0c54",
   "metadata": {},
   "outputs": [
    {
     "name": "stdout",
     "output_type": "stream",
     "text": [
      "enter n1:5\n",
      "enter n2:5\n",
      "mul = 25\n"
     ]
    }
   ],
   "source": [
    "n1 = int(input('enter n1:'))\n",
    "n2 = int(input('enter n2:'))\n",
    "mul = n1*n2\n",
    "print('mul =', mul)"
   ]
  },
  {
   "cell_type": "markdown",
   "id": "00c18097",
   "metadata": {},
   "source": [
    "#  Division."
   ]
  },
  {
   "cell_type": "code",
   "execution_count": 5,
   "id": "f8e22049",
   "metadata": {},
   "outputs": [
    {
     "name": "stdout",
     "output_type": "stream",
     "text": [
      "enter n1:4\n",
      "enter n2:2\n",
      "div = 2.0\n"
     ]
    }
   ],
   "source": [
    "n1 = int(input('enter n1:'))\n",
    "n2 = int(input('enter n2:'))\n",
    "div = n1/n2\n",
    "print('div =', div)"
   ]
  },
  {
   "cell_type": "markdown",
   "id": "f2226b61",
   "metadata": {},
   "source": [
    "#  Modulus."
   ]
  },
  {
   "cell_type": "code",
   "execution_count": 6,
   "id": "68bbeb9f",
   "metadata": {},
   "outputs": [
    {
     "name": "stdout",
     "output_type": "stream",
     "text": [
      "enter n1:10\n",
      "enter n2:5\n",
      "rem = 0\n"
     ]
    }
   ],
   "source": [
    "n1 = int(input('enter n1:'))\n",
    "n2 = int(input('enter n2:'))\n",
    "rem = n1%n2\n",
    "print('rem =', rem)"
   ]
  },
  {
   "cell_type": "markdown",
   "id": "66f2ac83",
   "metadata": {},
   "source": [
    "#  Exponent."
   ]
  },
  {
   "cell_type": "code",
   "execution_count": 7,
   "id": "017850ef",
   "metadata": {},
   "outputs": [
    {
     "name": "stdout",
     "output_type": "stream",
     "text": [
      "enter n1:5\n",
      "enter n2:7\n",
      "exp = 78125\n"
     ]
    }
   ],
   "source": [
    "n1 = int(input('enter n1:'))\n",
    "n2 = int(input('enter n2:'))\n",
    "exp = n1**n2\n",
    "print('exp =', exp)"
   ]
  },
  {
   "cell_type": "code",
   "execution_count": null,
   "id": "caf7dc5a",
   "metadata": {},
   "outputs": [],
   "source": []
  }
 ],
 "metadata": {
  "kernelspec": {
   "display_name": "Python 3 (ipykernel)",
   "language": "python",
   "name": "python3"
  },
  "language_info": {
   "codemirror_mode": {
    "name": "ipython",
    "version": 3
   },
   "file_extension": ".py",
   "mimetype": "text/x-python",
   "name": "python",
   "nbconvert_exporter": "python",
   "pygments_lexer": "ipython3",
   "version": "3.9.12"
  }
 },
 "nbformat": 4,
 "nbformat_minor": 5
}
