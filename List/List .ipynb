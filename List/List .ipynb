{
 "cells": [
  {
   "cell_type": "markdown",
   "id": "8efde327",
   "metadata": {},
   "source": [
    "#  write a program to sum all the items in a list."
   ]
  },
  {
   "cell_type": "code",
   "execution_count": 1,
   "id": "8ed3452b",
   "metadata": {},
   "outputs": [
    {
     "name": "stdout",
     "output_type": "stream",
     "text": [
      "15\n"
     ]
    }
   ],
   "source": [
    "num = [1, 2, 3, 4, 5]\n",
    "sum = 0\n",
    "for x in num:\n",
    "    sum += x\n",
    "\n",
    "print(sum)"
   ]
  },
  {
   "cell_type": "markdown",
   "id": "5c282267",
   "metadata": {},
   "source": [
    "#  Write a python program to multiply all the items in a list."
   ]
  },
  {
   "cell_type": "code",
   "execution_count": 2,
   "id": "9c7cb4cf",
   "metadata": {},
   "outputs": [
    {
     "name": "stdout",
     "output_type": "stream",
     "text": [
      "120\n"
     ]
    }
   ],
   "source": [
    "num=[1,2,3,4,5]\n",
    "tot=1\n",
    "for x in num:\n",
    "    tot*=x\n",
    "print(tot)"
   ]
  },
  {
   "cell_type": "markdown",
   "id": "6cacfe9d",
   "metadata": {},
   "source": [
    "#  write a program to remove duplicates from a list."
   ]
  },
  {
   "cell_type": "code",
   "execution_count": 3,
   "id": "09131665",
   "metadata": {},
   "outputs": [
    {
     "name": "stdout",
     "output_type": "stream",
     "text": [
      "{1, 2, 3, 4, 5, 6, 7, 8, 9}\n"
     ]
    }
   ],
   "source": [
    "a = [1,2,3,4,5,6,7,8,8,7,9]\n",
    "\n",
    "dup_items = set()\n",
    "uniq_items = []\n",
    "for x in a:\n",
    "    if x not in dup_items:\n",
    "        uniq_items.append(x)\n",
    "        dup_items.add(x)\n",
    "\n",
    "print(dup_items)"
   ]
  },
  {
   "cell_type": "markdown",
   "id": "d8d2c11b",
   "metadata": {},
   "source": [
    "#  write a program to check a list is empty or not."
   ]
  },
  {
   "cell_type": "code",
   "execution_count": 4,
   "id": "20e16a3d",
   "metadata": {},
   "outputs": [
    {
     "name": "stdout",
     "output_type": "stream",
     "text": [
      "not empty\n"
     ]
    }
   ],
   "source": [
    "l = [1,2,3]\n",
    "if not l :\n",
    "    print(\"empty\")\n",
    "else:\n",
    "    print(\"not empty\")\n"
   ]
  },
  {
   "cell_type": "markdown",
   "id": "52505caa",
   "metadata": {},
   "source": [
    " #   write a program to get the largest number from a list. "
   ]
  },
  {
   "cell_type": "code",
   "execution_count": 5,
   "id": "47282314",
   "metadata": {},
   "outputs": [
    {
     "name": "stdout",
     "output_type": "stream",
     "text": [
      " 5   is largest number   :  \n"
     ]
    }
   ],
   "source": [
    "a=[1,2,3,4,5]\n",
    "largest = max(a)\n",
    "print(f' {largest}   is largest number   :  ')"
   ]
  },
  {
   "cell_type": "markdown",
   "id": "ca312577",
   "metadata": {},
   "source": [
    "#  write a program to get the smallest number from a list."
   ]
  },
  {
   "cell_type": "code",
   "execution_count": 6,
   "id": "e3cb2d79",
   "metadata": {},
   "outputs": [
    {
     "name": "stdout",
     "output_type": "stream",
     "text": [
      " 1  is smallest number     :  \n"
     ]
    }
   ],
   "source": [
    "a=[1,2,3,4,5]\n",
    "smallest = min(a)\n",
    "print(f' {smallest}  is smallest number     :  ')"
   ]
  },
  {
   "cell_type": "markdown",
   "id": "b8ae43cb",
   "metadata": {},
   "source": [
    "#  write a python program to count the number of string where the string length is 2 or more and the first and last character are same from   a given list of string."
   ]
  },
  {
   "cell_type": "code",
   "execution_count": 7,
   "id": "5e9130fe",
   "metadata": {},
   "outputs": [
    {
     "name": "stdout",
     "output_type": "stream",
     "text": [
      "number of strings in list = 5\n"
     ]
    }
   ],
   "source": [
    "lst = ['rohit','6','text','8','cherry']\n",
    "count = 0\n",
    "i = 0\n",
    "for i in range(len(lst)):\n",
    "    count += 1\n",
    "print('number of strings in list =', count)"
   ]
  },
  {
   "cell_type": "code",
   "execution_count": null,
   "id": "f9fbf579",
   "metadata": {},
   "outputs": [],
   "source": []
  }
 ],
 "metadata": {
  "kernelspec": {
   "display_name": "Python 3 (ipykernel)",
   "language": "python",
   "name": "python3"
  },
  "language_info": {
   "codemirror_mode": {
    "name": "ipython",
    "version": 3
   },
   "file_extension": ".py",
   "mimetype": "text/x-python",
   "name": "python",
   "nbconvert_exporter": "python",
   "pygments_lexer": "ipython3",
   "version": "3.9.12"
  }
 },
 "nbformat": 4,
 "nbformat_minor": 5
}
